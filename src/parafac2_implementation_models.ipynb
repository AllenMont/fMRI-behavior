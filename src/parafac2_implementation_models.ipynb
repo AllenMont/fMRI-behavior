{
 "cells": [
  {
   "cell_type": "markdown",
   "metadata": {},
   "source": [
    "# Implementation"
   ]
  },
  {
   "cell_type": "markdown",
   "metadata": {},
   "source": [
    "## Imports"
   ]
  },
  {
   "cell_type": "code",
   "execution_count": 2,
   "metadata": {},
   "outputs": [],
   "source": [
    "import numpy as np\n",
    "from scipy.linalg import orth\n",
    "from scipy.linalg import svd\n",
    "import matplotlib.pyplot as plt\n",
    "import glob\n",
    "import pandas as pd\n",
    "\n",
    "from sklearn.model_selection import cross_val_score, KFold\n",
    "from sklearn.linear_model import LogisticRegression, RidgeClassifier, Ridge\n",
    "from sklearn.multioutput import MultiOutputRegressor\n",
    "from sklearn.metrics import accuracy_score, mean_squared_error\n",
    "\n",
    "from time import time"
   ]
  },
  {
   "cell_type": "markdown",
   "metadata": {},
   "source": [
    "## Functions"
   ]
  },
  {
   "cell_type": "code",
   "execution_count": 3,
   "metadata": {},
   "outputs": [],
   "source": [
    "def compare_subject_score(Ctrue, C_est):\n",
    "    plt.imshow(Ctrue)\n",
    "    plt.colorbar()\n",
    "    plt.title(\"True subject scores (C)\")\n",
    "    plt.show()\n",
    "\n",
    "    plt.imshow(C_est)\n",
    "    plt.colorbar()\n",
    "    plt.title(\"Estimated subject scores (C_est)\")\n",
    "    plt.show()"
   ]
  },
  {
   "cell_type": "code",
   "execution_count": 4,
   "metadata": {},
   "outputs": [],
   "source": [
    "def cross_val(model, X, y, K=10):\n",
    "    kf = KFold(n_splits=10, shuffle=True)\n",
    "    cvscores = cross_val_score(model, X, y, cv=kf)\n",
    "    print(\"Scores:\", cvscores.round(2))\n",
    "    print(\"Accuracy: %0.2f (+/- %0.2f)\" % (cvscores.mean(), cvscores.std() * 2))"
   ]
  },
  {
   "cell_type": "code",
   "execution_count": 5,
   "metadata": {},
   "outputs": [],
   "source": [
    "def two_cross_val(model, alphas, X, y, errorf=accuracy_score, K1=10, K2=10, verbose=True):\n",
    "    kf1 = KFold(n_splits=K1, shuffle=True)\n",
    "    kf2 = KFold(n_splits=K2, shuffle=True)\n",
    "    \n",
    "    l1_acc = []\n",
    "    for train_range, test_range in kf1.split(X):\n",
    "        X_train, y_train = X[train_range], y[train_range]\n",
    "        X_test, y_test = X[test_range], y[test_range]\n",
    "        \n",
    "        l2_acc = []\n",
    "        for lambda_ in alphas:\n",
    "            clfk = model(alpha=lambda_)\n",
    "            scores = cross_val_score(clfk, X_train, y_train, cv=kf2)\n",
    "            l2_acc.append((lambda_, scores.mean()))\n",
    "        \n",
    "        lambda_opt = max(l2_acc, key=lambda t:t[1])[0]\n",
    "        clf_opt = model(alpha=lambda_opt)\n",
    "        clf_opt.fit(X_train, y_train)\n",
    "        l1_acc.append((lambda_opt, errorf(y_test, clf_opt.predict(X_test))))\n",
    "\n",
    "    if verbose==True:\n",
    "        if errorf==accuracy_score:\n",
    "            print(\"Scores:\", np.round(l1_acc, 2)[:, 1])\n",
    "            print(\"Accuracy: %0.2f (+/- %0.2f)\" % (np.mean(l1_acc, axis=0)[1], np.std(l1_acc, axis=0)[1] * 2))\n",
    "        elif errorf == mean_squared_error:\n",
    "            print(\"Scores:\", np.round(l1_acc, 2)[:, 1])\n",
    "            print(\"Mean squared error: %0.2f (+/- %0.2f)\" % (np.mean(l1_acc, axis=0)[1], np.std(l1_acc, axis=0)[1] * 2))\n",
    "    \n",
    "    return l1_acc"
   ]
  },
  {
   "cell_type": "markdown",
   "metadata": {},
   "source": [
    "## 1. Data"
   ]
  },
  {
   "cell_type": "markdown",
   "metadata": {},
   "source": [
    "### 1.1 Actual data"
   ]
  },
  {
   "cell_type": "code",
   "execution_count": 7,
   "metadata": {},
   "outputs": [],
   "source": [
    "def read_data(path, target_columns):\n",
    "    targets = target_columns\n",
    "    # Load files\n",
    "    files = glob.glob(path + \"*.txt\")\n",
    "    file0 = np.loadtxt(files[0])\n",
    "    f_shape = file0.shape\n",
    "    f_bytes = file0.nbytes\n",
    "    N, M = f_shape[0] * len(files), f_shape[1]\n",
    "    print(\"Files: {}\\nFile shape: {}\\nFile size: {} KB\\nTotal: {}, {} MB\".format(\n",
    "            len(files), f_shape, f_bytes/1000, (N, M), (f_bytes*len(files))/1000000))\n",
    "    \n",
    "    print(\"Loading data...\")\n",
    "    \n",
    "    # Load target data\n",
    "    dfy = pd.read_csv(\"C:/Users/amont/Desktop/DTU/02460 Advanced Machine Learning/fMRI/Data/HCP1200_behavioural.csv\")\n",
    "    \n",
    "    # Get list of subjects\n",
    "    subs = [int(file.split(\"\\\\\")[-1][:-4]) for file in files]\n",
    "    \n",
    "    # Get target variable columns\n",
    "    targets.insert(0, \"Subject\")\n",
    "    dfsg = dfy[targets][dfy[\"Subject\"].isin(subs)].values\n",
    "    np.random.shuffle(dfsg)\n",
    "    \n",
    "    if targets[1] == \"Gender\":\n",
    "        y = np.array(list(map(lambda x: 0 if x==\"M\" else 1, dfsg[:,1])))\n",
    "    elif targets[1] == \"Age\":\n",
    "        y = label, yr = np.unique(targets[:,2], return_inverse=True)\n",
    "    elif \"NEOFAC\" in targets[1]:\n",
    "        dfsg = dfsg[~np.isnan(dfsg[:,1].astype(float))]\n",
    "        y = dfsg[:,1]\n",
    "              \n",
    "    # Load X\n",
    "    X = [np.loadtxt(files[i].split(\"\\\\\")[0] + \"\\\\\" + str(int(dfsg[i, 0])) + \".txt\") for i in range(dfsg.shape[0])]\n",
    "    X = np.array(X)\n",
    "    X = np.transpose(X)\n",
    "    print(\"done\")\n",
    "    \n",
    "    return X, y"
   ]
  },
  {
   "cell_type": "raw",
   "metadata": {},
   "source": [
    "#targets = [\"AngAffect_Unadj\", \"AngHostil_Unadj\", \"AngAggr_Unadj\", \"FearAffect_Unadj\", \"FearSomat_Unadj\",\n",
    "#           \"Sadness_Unadj\", \"LifeSatisf_Unadj\", \"MeanPurp_Unadj\", \"PosAffect_Unadj\", \"Friendship_Unadj\",\n",
    "#           \"Loneliness_Unadj\", \"PercHostil_Unadj\", \"PercReject_Unadj\", \"EmotSupp_Unadj\", \"InstruSupp_Unadj\",\n",
    "#           \"PercStress_Unadj\", \"SelfEff_Unadj\", \"NEOFAC_A\", \"NEOFAC_O\", \"NEOFAC_C\", \"NEOFAC_N\", \"NEOFAC_E\"]\n",
    "#target_variables = [\"Gender\", \"Age\", \"NEOFAC_A\", \"NEOFAC_O\", \"NEOFAC_C\", \"NEOFAC_N\", \"NEOFAC_E\"]\n",
    "\n",
    "Xr, yr = read_data(\"C:/Users/amont/Desktop/DTU/02460 Advanced Machine Learning/fMRI/Data/HCP1200_behavioural.csv\", [\"NEOFAC_A\"])"
   ]
  },
  {
   "cell_type": "markdown",
   "metadata": {},
   "source": [
    "### 1.2 Generate data"
   ]
  },
  {
   "cell_type": "code",
   "execution_count": 6,
   "metadata": {},
   "outputs": [],
   "source": [
    "def generate_parafac2_data_grouping(p, T, S):\n",
    "\n",
    "    X = np.zeros((p, T, S))    # Data matrix\n",
    "    R = np.random.randn(p,p)   # R Matrix\n",
    "    fscale = np.sqrt(np.sum(R**2))     # Normalize rows of R (Frobenius norm of a given row should be equal to 1)\n",
    "    C = np.zeros((p, S))       # Subject specific scores in columns of C\n",
    "    P = np.zeros((p, T, S))    # Orthonormal timeseries\n",
    "    noise = 0.01\n",
    "    \n",
    "    # Grouping\n",
    "    muC = 10*np.random.randn(p, 2)\n",
    "    y = [np.ones((1, np.ceil(S/2).astype(int))), 2*np.ones((1, np.floor(S/2).astype(int)))]\n",
    "    \n",
    "    # For each subject in group 1\n",
    "    for s in range(int(S/2)):\n",
    "        C[:,s] = np.random.normal(muC[:,0], size=p)\n",
    "        D = np.diag(C[:,s])\n",
    "        P[:,:,s] = np.transpose(orth(np.transpose(np.random.randn(p,T))))\n",
    "        X[:,:,s] = np.dot(np.dot(D*fscale, R*(1/fscale)),P[:,:,s]) + noise * np.random.randn(p,T)\n",
    "        \n",
    "    # For each subject in group 2\n",
    "    for s in range(int(S/2), S):\n",
    "        C[:,s] = np.random.normal(muC[:,1], size=p)\n",
    "        D = np.diag(C[:,s])\n",
    "        P[:,:,s] = np.transpose(orth(np.transpose(np.random.randn(p,T))))\n",
    "        X[:,:,s] = np.dot(np.dot(D*fscale, R*(1/fscale)),P[:,:,s]) + noise * np.random.randn(p,T)\n",
    "    \n",
    "    return X, y, C"
   ]
  },
  {
   "cell_type": "markdown",
   "metadata": {},
   "source": [
    "## 2. Models"
   ]
  },
  {
   "cell_type": "markdown",
   "metadata": {},
   "source": [
    "### 2.1 Baseline1 (Covariance matrix)"
   ]
  },
  {
   "cell_type": "code",
   "execution_count": 7,
   "metadata": {},
   "outputs": [],
   "source": [
    "class CovBaseline:\n",
    "    \n",
    "    def __init__(self):\n",
    "        self.p, self.T, self.S = None, None, None\n",
    "        self.cov = None\n",
    "        self.PC = None\n",
    "    \n",
    "    def _PCA(self):\n",
    "        U, S, Vt = svd(self.cov)\n",
    "        self.PC = np.dot(self.cov, np.transpose(Vt))\n",
    "        \n",
    "    def fit(self, X):\n",
    "        self.p, self.T, self.S = X.shape\n",
    "        self.cov = np.zeros((self.S, int(self.p*(self.p+1)/2)))\n",
    "        \n",
    "        for s in range(self.S):\n",
    "            indices = np.triu_indices(self.p)\n",
    "            self.cov[s] = np.cov(X[:,:,s])[indices]\n",
    "        \n",
    "        self._PCA()"
   ]
  },
  {
   "cell_type": "markdown",
   "metadata": {},
   "source": [
    "### 2.2 Baseline2 (Correlation matrix)"
   ]
  },
  {
   "cell_type": "code",
   "execution_count": 8,
   "metadata": {},
   "outputs": [],
   "source": [
    "class CorrBaseline:\n",
    "    \n",
    "    def __init__(self):\n",
    "        self.p, self.T, self.S = None, None, None\n",
    "        self.corr = None\n",
    "        \n",
    "    def _PCA(self):\n",
    "        U, S, Vt = svd(self.corr)\n",
    "        self.PC = np.dot(self.corr, np.transpose(Vt))\n",
    "        \n",
    "    def fit(self, X):\n",
    "        self.p, self.T, self.S = X.shape\n",
    "        self.corr = np.zeros((self.S, int(self.p*(self.p-1)/2)))\n",
    "        \n",
    "        for s in range(self.S):\n",
    "            indices = np.triu_indices(self.p, 1)\n",
    "            self.corr[s] = np.corrcoef(X[:,:,s])[indices]\n",
    "            \n",
    "        self._PCA()    "
   ]
  },
  {
   "cell_type": "markdown",
   "metadata": {},
   "source": [
    "### 2.3 PARAFAC2 (without noise parameter)\n",
    "\\begin{align*}\n",
    "\\text{I)} &\\qquad \\mathbf{P}^{new} = \\mathbf{V}\\mathbf{U}^{\\top} = (\\mathbf{U}\\mathbf{V}^{\\top})^{\\top}\\\\\n",
    "\\text{II)} &\\qquad \\mathbf{D}^{(s)}_{ii} = \\dfrac{(\\mathbf{R}\\mathbf{P}^{(s)}\\mathbf{X}^{(s)\\top})_{ii}}{(\\mathbf{R}\\mathbf{R}^{T})_{ii}}\\\\\n",
    "\\text{III)} &\\qquad \\mathbf{R}^{new} = \\dfrac{\\sum_{s}\\mathbf{D}^{(s)\\top}\\mathbf{X}^{(s)}\\mathbf{P}^{(s)\\top}}{\\sum_{s}\\mathbf{D}^{(s)\\top}\\mathbf{D}^{(s)}}\n",
    "\\end{align*}\n",
    "where\n",
    "\\begin{align*}\n",
    "\\mathbf{U}\\mathbf{\\Sigma}\\mathbf{V}^{\\top} = \\text{SVD}(\\mathbf{X}^{(s)\\top}\\mathbf{D}^{(s)}\\mathbf{R})\n",
    "\\end{align*}\n",
    "and\n",
    "\\begin{align*}\n",
    "\\mathbf{X} = \\mathbf{D}\\mathbf{R}\\mathbf{P} + \\mathbf{E}\n",
    "\\end{align*}\n",
    "Loss function\n",
    "\\begin{align*}\n",
    "\\mathcal{L} &= \\sum_{s=1}^{S}||\\mathbf{X}^{(s)} - \\mathbf{D}^{(s)}\\mathbf{R}\\mathbf{P}^{(s)}||^{2}_{F}\\\\\n",
    "&= \\sum_{s=1}^{S} tr\\big[(\\mathbf{X}^{(s)} - \\mathbf{D}^{(s)}\\mathbf{R}\\mathbf{P}^{(s)})(\\mathbf{X}^{(s)} - \\mathbf{D}^{(s)}\\mathbf{R}\\mathbf{P}^{(s)})^{\\top}\\big]\n",
    "\\end{align*}"
   ]
  },
  {
   "cell_type": "code",
   "execution_count": 9,
   "metadata": {},
   "outputs": [],
   "source": [
    "class PARAFAC2:\n",
    "    \n",
    "    def __init__(self):\n",
    "        self.p, self.T, self.S = None, None, None\n",
    "        self.R = None       # R Matrix\n",
    "        self.C = None       # Subject specific scores in columns of C\n",
    "        self.P = None\n",
    "        \n",
    "    def _loss(self, X):\n",
    "        \n",
    "        loss_ = 0\n",
    "        for s in range(self.S):\n",
    "            XDRP = X[:,:,s] - (np.c_[self.C[:,s]] * self.R).dot(self.P[:,:,s])\n",
    "            tr = np.sum((XDRP * XDRP).sum(-1))\n",
    "            loss_ += tr\n",
    "\n",
    "        return loss_\n",
    "\n",
    "    \n",
    "    def _train_step(self, X):\n",
    "        \n",
    "        r_numerator = np.zeros((self.p,self.p))\n",
    "        r_denominator = np.zeros((self.p))\n",
    "        for s in range(self.S):\n",
    "                  \n",
    "            ## Update P\n",
    "            U, Sig, Vt = svd(X[:,:,s].T.dot(np.c_[self.C[:,s]]*self.R), full_matrices=False)\n",
    "            self.P[:,:,s] = U.dot(Vt).T\n",
    "\n",
    "\n",
    "\n",
    "            ## Update C\n",
    "            d_numerators = np.diag(self.R.dot(self.P[:,:,s]).dot(X[:,:,s].T))\n",
    "            d_denominators = (self.R*self.R).sum(-1)\n",
    "            self.C[:,s] = d_numerators / d_denominators\n",
    "\n",
    "            # Constrain to non-negativity again after having updated C\n",
    "            if self.C.sum() < 0:\n",
    "                self.C = self.C*-1\n",
    "                self.C[self.C < 0] = 0\n",
    "                self.P = self.P*-1\n",
    "            else:\n",
    "                self.C[self.C < 0] = 0\n",
    "\n",
    "\n",
    "            ## Update R\n",
    "            r_numerator += self.P[:,:,s].dot((self.C[:,s]*X[:,:,s].T)).T\n",
    "            r_denominator += self.C[:,s]*self.C[:,s]\n",
    "\n",
    "        self.R = r_numerator / np.c_[r_denominator]\n",
    "            \n",
    "    def fit(self, X, n_epochs):\n",
    "        self.p, self.T, self.S = X.shape\n",
    "        self.R = np.random.randn(self.p, self.p)\n",
    "        self.C = np.random.randn(self.p, self.S)\n",
    "        self.P = np.random.randn(self.p, self.T, self.S)\n",
    "        \n",
    "        print(\"Init loss:\", self._loss(X))\n",
    "        errors = []\n",
    "        epochs = n_epochs\n",
    "\n",
    "        for i in range(epochs):\n",
    "            self._train_step(X)\n",
    "            error = self._loss(X)\n",
    "            errors.append(error)\n",
    "            print(i, error)\n",
    "\n",
    "        plt.figure(figsize=(13,5))\n",
    "        plt.plot(errors)\n",
    "        plt.show()"
   ]
  },
  {
   "cell_type": "markdown",
   "metadata": {},
   "source": [
    "### 2.4 PARAFAC2 (with noise parameter)\n",
    "\\begin{align*}\n",
    "\\text{I)} &\\qquad \\mathbf{P}^{new} = \\mathbf{V}\\mathbf{U}^{\\top} = \\big(\\mathbf{U}\\mathbf{V}^{\\top}\\big)^{\\top}\\\\\n",
    "\\text{II)} &\\qquad \\mathbf{D}^{(s)}_{ii} = \\dfrac{\\big(\\mathbf{R}\\mathbf{P}^{(s)}\\mathbf{X}^{(s)\\top}\\mathbf{Q}^{(s)\\top}\\mathbf{Q}^{(s)}\\big)_{ii}}{\\big(\\mathbf{Q}^{(s)\\top}\\mathbf{Q}^{(s)}\\mathbf{R}\\mathbf{R}^{T}\\big)_{ii}}\\\\\n",
    "\\text{III)} &\\qquad \\mathbf{R}^{new} = \\dfrac{\\sum_{s}\\mathbf{D}^{(s)\\top}\\mathbf{Q}^{(s)\\top}\\mathbf{Q}^{(s)}\\mathbf{X}^{(s)}\\mathbf{P}^{(s)\\top}}{\\sum_{s}\\mathbf{D}^{(s)\\top}\\mathbf{Q}^{(s)\\top}\\mathbf{Q}^{(s)}\\mathbf{D}^{(s)}}\\\\\n",
    "\\text{IV)} &\\qquad \\mathbf{Q}^{new}_{(v,s)} = \\sqrt{\\dfrac{1}{\\dfrac{1}{T}\\sum_{t}\\big(\\mathbf{X}^{(s,v)}-\\big(\\mathbf{D}^{(s)}\\mathbf{R}\\mathbf{P}^{(s)}\\big)^{(v)}\\big)^{2}}}\n",
    "\\end{align*}\n",
    "where\n",
    "\\begin{align*}\n",
    "\\mathbf{U}\\mathbf{\\Sigma}\\mathbf{V}^{\\top} = \\text{SVD}\\big(\\mathbf{X}^{(s)\\top}\\mathbf{Q}^{(s)\\top}\\mathbf{Q}^{(s)}\\mathbf{D}^{(s)}\\mathbf{R}\\big)\n",
    "\\end{align*}\n",
    "and\n",
    "\\begin{align*}\n",
    "\\mathbf{X} = \\mathbf{D}\\mathbf{R}\\mathbf{P} + \\mathbf{E}\n",
    "\\end{align*}\n",
    "Loss function\n",
    "\\begin{align*}\n",
    "\\mathcal{L} &= \\sum_{s=1}^{S}\\big|\\big|diag\\big(\\dfrac{1}{\\sigma^{2}_{s,v}}\\big)\\big(\\mathbf{X}^{(s)} - \\mathbf{D}^{(s)}\\mathbf{R}\\mathbf{P}^{(s)}\\big)\\big|\\big|^{2}_{F}\\\\\n",
    "&= \\sum_{s=1}^{S} \\dfrac{1}{2}\\bigg(tr\\bigg[\\big(\\mathbf{Q}^{(s)}\\big(\\mathbf{X}^{(s)} - \\mathbf{D}^{(s)}\\mathbf{R}\\mathbf{P}^{(s)}\\big)\\big)\\big(\\mathbf{Q}^{(s)}\\big(\\mathbf{X}^{(s)} - \\mathbf{D}^{(s)}\\mathbf{R}\\mathbf{P}^{(s)}\\big)\\big)^{\\top}\\bigg] - T \\cdot \\sum_{v} \\log\\big(2\\pi \\cdot Q^{(s,v)2}\\big) \\bigg)\n",
    "\\end{align*}"
   ]
  },
  {
   "cell_type": "code",
   "execution_count": 10,
   "metadata": {},
   "outputs": [],
   "source": [
    "class PARAFAC2_N:\n",
    "    \n",
    "    def __init__(self, tol):\n",
    "        self.p, self.T, self.S = None, None, None\n",
    "        self.R = None       # R Matrix\n",
    "        self.C = None       # Subject specific scores in columns of C\n",
    "        self.P = None\n",
    "        self.Q = None\n",
    "        self.tol = tol\n",
    "        \n",
    "    def _loss(self, X):\n",
    "        \n",
    "        loss_ = 0\n",
    "        for s in range(self.S):\n",
    "            Qs = np.c_[self.Q[:,s]]\n",
    "            Cs = np.c_[self.C[:,s]]\n",
    "            QXDRP = Qs*(X[:,:,s] - (Cs*self.R).dot(self.P[:,:,s]))\n",
    "            tr = np.sum((QXDRP * QXDRP).sum(-1))\n",
    "            loss_ += 1/2 * (tr - self.T * np.sum(np.log(2*np.pi * Qs**2)))\n",
    "\n",
    "        return loss_\n",
    "\n",
    "    \n",
    "    def _train_step(self, X):\n",
    "        \n",
    "        r_numerator = np.zeros((self.p, self.p))\n",
    "        r_denominator = np.zeros(self.p)\n",
    "        for s in range(self.S):\n",
    "            Ds = np.diag(self.C[:,s])\n",
    "            \n",
    "            ## Update Q\n",
    "            self.Q[:,s] = np.sqrt(1/(1/self.T*np.sum((X[:,:,s] - (Ds.dot(self.R).dot(self.P[:,:,s])))**2, axis=1)))\n",
    "            \n",
    "            QQt = np.diag(self.Q[:,s]*self.Q[:,s])\n",
    "            \n",
    "            ## Update P\n",
    "            U, S, Vt = svd(X[:,:,s].T.dot(QQt).dot(Ds).dot(self.R), full_matrices=False)\n",
    "            self.P[:,:,s] = U.dot(Vt).T\n",
    "\n",
    "            ## Update C\n",
    "            c_numerator = np.diag(self.R.dot(self.P[:,:,s]).dot(X[:,:,s].T).dot(QQt))\n",
    "            c_denominator = np.diag(QQt.dot(self.R).dot(self.R.T))\n",
    "            self.C[:,s] = c_numerator / c_denominator\n",
    "            \n",
    "            # Constrain to non-negativity again after having updated C\n",
    "            if self.C.sum() < 0:\n",
    "                self.C = self.C*-1\n",
    "                self.C[self.C < 0] = 0\n",
    "                self.P = self.P*-1\n",
    "            else:\n",
    "                self.C[self.C < 0] = 0\n",
    "                \n",
    "            ## Update R\n",
    "            r_numerator += Ds.dot(QQt).dot(X[:,:,s]).dot(self.P[:,:,s].T)\n",
    "            r_denominator += self.C[:,s]*self.Q[:,s]*self.Q[:,s]*self.C[:,s]\n",
    "            \n",
    "        self.R = r_numerator / np.c_[r_denominator]\n",
    "        \n",
    "            \n",
    "    def fit(self, X, n_epochs):\n",
    "        self.p, self.T, self.S = X.shape\n",
    "        self.R = np.random.randn(self.p, self.p)\n",
    "        self.C = np.random.randn(self.p, self.S)\n",
    "        self.P = np.random.randn(self.p, self.T, self.S)\n",
    "        self.Q = np.random.randn(self.p, self.S)\n",
    "        \n",
    "        print(\"Init loss:\", self._loss(X))\n",
    "        errors = []\n",
    "        epochs = n_epochs\n",
    "\n",
    "        for i in range(epochs):\n",
    "            self._train_step(X)\n",
    "            error = self._loss(X)\n",
    "            errors.append(error)\n",
    "            print(i, error)\n",
    "\n",
    "        plt.figure(figsize=(13,5))\n",
    "        plt.plot(errors)\n",
    "        plt.show()"
   ]
  },
  {
   "cell_type": "markdown",
   "metadata": {},
   "source": [
    "## 3. Modelling"
   ]
  },
  {
   "cell_type": "markdown",
   "metadata": {},
   "source": [
    "### 3.1 Load data"
   ]
  },
  {
   "cell_type": "raw",
   "metadata": {
    "collapsed": true
   },
   "source": [
    "# Data parameters\n",
    "p = 3; T = 200; S = 500;\n",
    "\n",
    "# To generate new data with groupings\n",
    "Xs, ys, Ctrue = generate_parafac2_data_grouping(p, T, S)\n",
    "ys = np.c_[ys[0], ys[1]].flatten()"
   ]
  },
  {
   "cell_type": "code",
   "execution_count": 20,
   "metadata": {},
   "outputs": [
    {
     "ename": "NameError",
     "evalue": "name 'HCP1200_behavioural' is not defined",
     "output_type": "error",
     "traceback": [
      "\u001b[1;31m---------------------------------------------------------------------------\u001b[0m",
      "\u001b[1;31mNameError\u001b[0m                                 Traceback (most recent call last)",
      "\u001b[1;32m<ipython-input-20-af2192e31a53>\u001b[0m in \u001b[0;36m<module>\u001b[1;34m()\u001b[0m\n\u001b[0;32m      4\u001b[0m \u001b[1;31m#           \"PercStress_Unadj\", \"SelfEff_Unadj\", \"NEOFAC_A\", \"NEOFAC_O\", \"NEOFAC_C\", \"NEOFAC_N\", \"NEOFAC_E\"]\u001b[0m\u001b[1;33m\u001b[0m\u001b[1;33m\u001b[0m\u001b[0m\n\u001b[0;32m      5\u001b[0m \u001b[1;31m#target_variables = [\"Gender\", \"Age\", \"NEOFAC_A\", \"NEOFAC_O\", \"NEOFAC_C\", \"NEOFAC_N\", \"NEOFAC_E\"]\u001b[0m\u001b[1;33m\u001b[0m\u001b[1;33m\u001b[0m\u001b[0m\n\u001b[1;32m----> 6\u001b[1;33m \u001b[0mHCP1200_behavioural\u001b[0m\u001b[1;33m.\u001b[0m\u001b[0mcsv\u001b[0m\u001b[1;33m\u001b[0m\u001b[0m\n\u001b[0m\u001b[0;32m      7\u001b[0m \u001b[0mXr\u001b[0m\u001b[1;33m,\u001b[0m \u001b[0myr\u001b[0m \u001b[1;33m=\u001b[0m \u001b[0mread_data\u001b[0m\u001b[1;33m(\u001b[0m\u001b[1;34m\"C:/Users/amont/Desktop/DTU/02460 Advanced Machine Learning/fMRI/Data/HCP1200_behavioural.csv\"\u001b[0m\u001b[1;33m,\u001b[0m \u001b[1;33m[\u001b[0m\u001b[1;34m\"NEOFAC_E\"\u001b[0m\u001b[1;33m]\u001b[0m\u001b[1;33m)\u001b[0m\u001b[1;33m\u001b[0m\u001b[0m\n",
      "\u001b[1;31mNameError\u001b[0m: name 'HCP1200_behavioural' is not defined"
     ]
    }
   ],
   "source": [
    "#targets = [\"AngAffect_Unadj\", \"AngHostil_Unadj\", \"AngAggr_Unadj\", \"FearAffect_Unadj\", \"FearSomat_Unadj\",\n",
    "#           \"Sadness_Unadj\", \"LifeSatisf_Unadj\", \"MeanPurp_Unadj\", \"PosAffect_Unadj\", \"Friendship_Unadj\",\n",
    "#           \"Loneliness_Unadj\", \"PercHostil_Unadj\", \"PercReject_Unadj\", \"EmotSupp_Unadj\", \"InstruSupp_Unadj\",\n",
    "#           \"PercStress_Unadj\", \"SelfEff_Unadj\", \"NEOFAC_A\", \"NEOFAC_O\", \"NEOFAC_C\", \"NEOFAC_N\", \"NEOFAC_E\"]\n",
    "#target_variables = [\"Gender\", \"Age\", \"NEOFAC_A\", \"NEOFAC_O\", \"NEOFAC_C\", \"NEOFAC_N\", \"NEOFAC_E\"]\n",
    "HCP1200_behavioural.csv\n",
    "Xr, yr = read_data(\"C:/Users/amont/Desktop/DTU/02460 Advanced Machine Learning/fMRI/Data/HCP1200_behavioural.csv\", [\"NEOFAC_E\"])"
   ]
  },
  {
   "cell_type": "code",
   "execution_count": 12,
   "metadata": {},
   "outputs": [],
   "source": [
    "X = Xr\n",
    "y = yr"
   ]
  },
  {
   "cell_type": "raw",
   "metadata": {
    "collapsed": true
   },
   "source": [
    "X = Xs\n",
    "y = ys"
   ]
  },
  {
   "cell_type": "markdown",
   "metadata": {},
   "source": [
    "### 3.2 Training"
   ]
  },
  {
   "cell_type": "markdown",
   "metadata": {},
   "source": [
    "#### 3.2.1 PARAFAC2 without noise parameter"
   ]
  },
  {
   "cell_type": "code",
   "execution_count": 13,
   "metadata": {},
   "outputs": [
    {
     "name": "stdout",
     "output_type": "stream",
     "text": [
      "\n",
      "Shapes of parameter estimates:\n",
      "X shape: (15, 4800, 1001)\n",
      "\n",
      "\n",
      "Training model:\n",
      "Init loss: 261501163275.99814\n",
      "0 143348080689.38504\n",
      "1 72335127113.77856\n",
      "2 29746551783.31752\n",
      "3 14765073799.880045\n",
      "4 12628175302.720905\n",
      "5 12371628614.59879\n",
      "6 12321023339.873577\n",
      "7 12293581022.154598\n",
      "8 12289548090.019762\n",
      "9 12289470439.577133\n",
      "10 12230712287.691587\n",
      "11 12217798428.826557\n",
      "12 12217747191.22019\n",
      "13 12217747093.37948\n",
      "14 12217747093.134787\n"
     ]
    },
    {
     "data": {
      "image/png": "[encoded data removed]",
      "text/plain": [
       "<matplotlib.figure.Figure at 0x1c72b3c54e0>"
      ]
     },
     "metadata": {},
     "output_type": "display_data"
    },
    {
     "name": "stdout",
     "output_type": "stream",
     "text": [
      "Training time: 230.23687s\n"
     ]
    }
   ],
   "source": [
    "# Initialize model\n",
    "parafac2 = PARAFAC2()\n",
    "\n",
    "print(\"\\nShapes of parameter estimates:\")\n",
    "print(\"X shape:\", X.shape)\n",
    "\n",
    "# Train model\n",
    "print(\"\\n\\nTraining model:\")\n",
    "start_time = time()\n",
    "parafac2.fit(X, 15)\n",
    "end_time = time()\n",
    "print(\"Training time: {:.5f}s\".format(end_time - start_time))\n",
    "#compare_subject_score(Ctrue, parafac2.C)"
   ]
  },
  {
   "cell_type": "markdown",
   "metadata": {},
   "source": [
    "#### 3.2.2 PARAFAC2 with noise parameter"
   ]
  },
  {
   "cell_type": "code",
   "execution_count": 14,
   "metadata": {
    "scrolled": false
   },
   "outputs": [
    {
     "name": "stdout",
     "output_type": "stream",
     "text": [
      "\n",
      "Shapes of parameter estimates:\n",
      "X shape: (15, 4800, 1001)\n",
      "\n",
      "\n",
      "Training model:\n",
      "Init loss: 129451602847.1635\n",
      "0 256543131.41148844\n",
      "1 256537318.9212645\n",
      "2 256534525.417327\n",
      "3 256532913.94545868\n",
      "4 256532593.43701813\n",
      "5 256532571.05424526\n",
      "6 256532566.10604325\n",
      "7 256532564.44755098\n",
      "8 256532564.3597728\n",
      "9 256532564.26390904\n",
      "10 256532564.09876308\n",
      "11 256532563.98570862\n",
      "12 256532563.98426345\n",
      "13 256532563.98425207\n",
      "14 256532563.9842523\n"
     ]
    },
    {
     "data": {
      "image/png": "[encoded data removed]",
      "text/plain": [
       "<matplotlib.figure.Figure at 0x1c74535fd68>"
      ]
     },
     "metadata": {},
     "output_type": "display_data"
    },
    {
     "name": "stdout",
     "output_type": "stream",
     "text": [
      "Training time: 235.47304s\n"
     ]
    }
   ],
   "source": [
    "# Initialize model\n",
    "parafac2_n = PARAFAC2_N(tol=1e-4)\n",
    "\n",
    "print(\"\\nShapes of parameter estimates:\")\n",
    "print(\"X shape:\", X.shape)\n",
    "\n",
    "# Train model\n",
    "print(\"\\n\\nTraining model:\")\n",
    "start_time = time()\n",
    "parafac2_n.fit(X, 15)\n",
    "end_time = time()\n",
    "print(\"Training time: {:.5f}s\".format(end_time - start_time))\n",
    "#compare_subject_score(Ctrue, parafac2_n.C)"
   ]
  },
  {
   "cell_type": "markdown",
   "metadata": {},
   "source": [
    "## 4. Group classification"
   ]
  },
  {
   "cell_type": "markdown",
   "metadata": {},
   "source": [
    "### 4.1 Covariance baseline"
   ]
  },
  {
   "cell_type": "code",
   "execution_count": 15,
   "metadata": {},
   "outputs": [],
   "source": [
    "cov_model = CovBaseline()\n",
    "cov_model.fit(X)"
   ]
  },
  {
   "cell_type": "markdown",
   "metadata": {},
   "source": [
    "#### 4.1.1 No PCA"
   ]
  },
  {
   "cell_type": "code",
   "execution_count": 16,
   "metadata": {},
   "outputs": [
    {
     "name": "stdout",
     "output_type": "stream",
     "text": [
      "Scores: [28.62 35.65 34.04 35.45 48.18 39.58 41.11 39.34 41.05 41.23]\n",
      "Mean squared error: 38.42 (+/- 10.02)\n"
     ]
    }
   ],
   "source": [
    "#clf = RidgeClassifier\n",
    "#errf = accuracy_score\n",
    "clf = Ridge\n",
    "errf = mean_squared_error\n",
    "\n",
    "alphas = np.arange(0.1, 1.1, 0.1)\n",
    "cv2 = two_cross_val(clf, alphas, cov_model.cov, y, errorf=errf, K1=10, K2=10)"
   ]
  },
  {
   "cell_type": "markdown",
   "metadata": {},
   "source": [
    "#### 4.1.2 PCA"
   ]
  },
  {
   "cell_type": "code",
   "execution_count": 17,
   "metadata": {},
   "outputs": [
    {
     "name": "stdout",
     "output_type": "stream",
     "text": [
      "Scores: [37.61 37.99 42.99 48.1  34.59 35.79 36.53 36.45 36.86 37.12]\n",
      "Mean squared error: 38.40 (+/- 7.71)\n"
     ]
    }
   ],
   "source": [
    "#clf = RidgeClassifier\n",
    "#errf = accuracy_score\n",
    "clf = Ridge\n",
    "errf = mean_squared_error\n",
    "\n",
    "alphas = np.arange(0.1, 1.1, 0.1)\n",
    "cv2 = two_cross_val(clf, alphas, cov_model.PC, y, errorf=errf, K1=10, K2=10)"
   ]
  },
  {
   "cell_type": "markdown",
   "metadata": {},
   "source": [
    "### 4.2 Correlation baseline"
   ]
  },
  {
   "cell_type": "code",
   "execution_count": 18,
   "metadata": {},
   "outputs": [],
   "source": [
    "corr_model = CorrBaseline()\n",
    "corr_model.fit(X)"
   ]
  },
  {
   "cell_type": "markdown",
   "metadata": {},
   "source": [
    "#### 4.2.1 No PCA"
   ]
  },
  {
   "cell_type": "code",
   "execution_count": 19,
   "metadata": {
    "scrolled": true
   },
   "outputs": [
    {
     "name": "stdout",
     "output_type": "stream",
     "text": [
      "Scores: [37.43 38.3  43.79 30.96 29.31 40.16 32.93 30.4  39.65 27.17]\n",
      "Mean squared error: 35.01 (+/- 10.54)\n"
     ]
    }
   ],
   "source": [
    "#clf = RidgeClassifier\n",
    "#errf = accuracy_score\n",
    "clf = Ridge\n",
    "errf = mean_squared_error\n",
    "\n",
    "alphas = np.arange(0.1, 1.1, 0.1)\n",
    "cv2 = two_cross_val(clf, alphas, corr_model.corr, y, errorf=errf, K1=10, K2=10)"
   ]
  },
  {
   "cell_type": "markdown",
   "metadata": {},
   "source": [
    "#### 4.2.2 PCA"
   ]
  },
  {
   "cell_type": "code",
   "execution_count": 20,
   "metadata": {},
   "outputs": [
    {
     "name": "stdout",
     "output_type": "stream",
     "text": [
      "Scores: [26.24 35.94 41.98 40.53 29.06 35.28 43.32 34.9  33.93 35.67]\n",
      "Mean squared error: 35.68 (+/- 10.17)\n"
     ]
    }
   ],
   "source": [
    "#clf = RidgeClassifier\n",
    "#errf = accuracy_score\n",
    "clf = Ridge\n",
    "errf = mean_squared_error\n",
    "\n",
    "\n",
    "alphas = np.arange(0.1, 1.1, 0.1)\n",
    "cv2 = two_cross_val(clf, alphas, corr_model.PC, y, errorf=errf, K1=10, K2=10)"
   ]
  },
  {
   "cell_type": "markdown",
   "metadata": {},
   "source": [
    "### 4.3 PARAFAC2 Scores"
   ]
  },
  {
   "cell_type": "markdown",
   "metadata": {},
   "source": [
    "#### 4.3.1 Without noise parameter"
   ]
  },
  {
   "cell_type": "code",
   "execution_count": 21,
   "metadata": {
    "scrolled": false
   },
   "outputs": [
    {
     "name": "stdout",
     "output_type": "stream",
     "text": [
      "Scores: [35.03 40.14 35.93 37.96 33.5  35.23 39.25 31.67 40.68 38.92]\n",
      "Mean squared error: 36.83 (+/- 5.71)\n"
     ]
    }
   ],
   "source": [
    "C = np.transpose(parafac2.C)\n",
    "\n",
    "#clf = RidgeClassifier\n",
    "#errf = accuracy_score\n",
    "clf = Ridge\n",
    "errf = mean_squared_error\n",
    "\n",
    "alphas = np.arange(0.1, 1.1, 0.1)\n",
    "cv2 = two_cross_val(clf, alphas, C, y, errorf=errf, K1=10, K2=10)"
   ]
  },
  {
   "cell_type": "markdown",
   "metadata": {},
   "source": [
    "#### With noise parameter"
   ]
  },
  {
   "cell_type": "code",
   "execution_count": 22,
   "metadata": {},
   "outputs": [
    {
     "name": "stdout",
     "output_type": "stream",
     "text": [
      "C as features\n",
      "Scores: [38.47 37.82 40.96 37.15 39.73 33.58 28.85 28.53 39.86 38.13]\n",
      "Mean squared error: 36.31 (+/- 8.50)\n",
      "\n",
      "Q as features\n",
      "Scores: [29.64 53.93 41.08 32.84 31.26 36.35 24.81 39.79 36.84 33.15]\n",
      "Mean squared error: 35.97 (+/- 15.09)\n",
      "\n",
      "C and Q as features\n",
      "Scores: [35.   36.97 44.71 47.92 33.88 28.17 28.65 31.81 46.76 33.36]\n",
      "Mean squared error: 36.72 (+/- 13.78)\n"
     ]
    }
   ],
   "source": [
    "Cn = parafac2_n.C.T\n",
    "Qn = parafac2_n.Q.T\n",
    "CQ = np.hstack((Cn, Qn))\n",
    "\n",
    "#clf = RidgeClassifier\n",
    "#errf = accuracy_score\n",
    "clf = Ridge\n",
    "errf = mean_squared_error\n",
    "\n",
    "alphas = np.arange(0.1, 1.1, 0.1)\n",
    "print(\"C as features\")\n",
    "cv2 = two_cross_val(clf, alphas, Cn, y, errorf=errf, K1=10, K2=10)\n",
    "\n",
    "print(\"\\nQ as features\")\n",
    "cv2 = two_cross_val(clf, alphas, Qn, y, errorf=errf, K1=10, K2=10)\n",
    "\n",
    "print(\"\\nC and Q as features\")\n",
    "cv2 = two_cross_val(clf, alphas, CQ, y, errorf=errf, K1=10, K2=10)"
   ]
  }
 ],
 "metadata": {
  "kernelspec": {
   "display_name": "Python 3",
   "language": "python",
   "name": "python3"
  },
  "language_info": {
   "codemirror_mode": {
    "name": "ipython",
    "version": 3
   },
   "file_extension": ".py",
   "mimetype": "text/x-python",
   "name": "python",
   "nbconvert_exporter": "python",
   "pygments_lexer": "ipython3",
   "version": "3.6.5"
  }
 },
 "nbformat": 4,
 "nbformat_minor": 2
}
